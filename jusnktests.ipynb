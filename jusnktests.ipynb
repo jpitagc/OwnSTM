{
 "cells": [
  {
   "cell_type": "code",
   "execution_count": 2,
   "metadata": {},
   "outputs": [
    {
     "name": "stdout",
     "output_type": "stream",
     "text": [
      "Reading file ../data.nosync/DAVIS2017/ImageSets/2017/val.txt\n"
     ]
    }
   ],
   "source": [
    "from model import *\n",
    "from evaldavis2017 import *\n",
    "from utils import *\n",
    "from dataset.dataset import DAVIS_MO_Test\n",
    "\n",
    "Testloader = DAVIS_MO_Test('../data.nosync/DAVIS2017', resolution='480p', imset='20{}/{}.txt'.format(17,'val'), single_object=(17==16))\n"
   ]
  },
  {
   "cell_type": "code",
   "execution_count": 37,
   "metadata": {},
   "outputs": [
    {
     "name": "stdout",
     "output_type": "stream",
     "text": [
      "(tensor([2]), {'name': 'bike-packing', 'num_frames': 69, 'size_480p': (480, 910)})\n",
      "(tensor([1]), {'name': 'blackswan', 'num_frames': 50, 'size_480p': (480, 854)})\n",
      "(tensor([2]), {'name': 'bmx-trees', 'num_frames': 80, 'size_480p': (480, 854)})\n",
      "(tensor([1]), {'name': 'breakdance', 'num_frames': 84, 'size_480p': (480, 854)})\n",
      "(tensor([1]), {'name': 'camel', 'num_frames': 90, 'size_480p': (480, 854)})\n",
      "(tensor([1]), {'name': 'car-roundabout', 'num_frames': 75, 'size_480p': (480, 854)})\n",
      "(tensor([1]), {'name': 'car-shadow', 'num_frames': 40, 'size_480p': (480, 854)})\n",
      "(tensor([1]), {'name': 'cows', 'num_frames': 104, 'size_480p': (480, 854)})\n",
      "(tensor([1]), {'name': 'dance-twirl', 'num_frames': 90, 'size_480p': (480, 854)})\n",
      "(tensor([1]), {'name': 'dog', 'num_frames': 60, 'size_480p': (480, 854)})\n",
      "(tensor([3]), {'name': 'dogs-jump', 'num_frames': 66, 'size_480p': (480, 854)})\n",
      "(tensor([1]), {'name': 'drift-chicane', 'num_frames': 52, 'size_480p': (480, 854)})\n",
      "(tensor([1]), {'name': 'drift-straight', 'num_frames': 50, 'size_480p': (480, 854)})\n",
      "(tensor([1]), {'name': 'goat', 'num_frames': 90, 'size_480p': (480, 854)})\n",
      "(tensor([5]), {'name': 'gold-fish', 'num_frames': 78, 'size_480p': (480, 854)})\n",
      "(tensor([2]), {'name': 'horsejump-high', 'num_frames': 50, 'size_480p': (480, 854)})\n",
      "(tensor([3]), {'name': 'india', 'num_frames': 81, 'size_480p': (480, 854)})\n",
      "(tensor([2]), {'name': 'judo', 'num_frames': 34, 'size_480p': (480, 854)})\n",
      "(tensor([3]), {'name': 'kite-surf', 'num_frames': 50, 'size_480p': (480, 854)})\n",
      "(tensor([5]), {'name': 'lab-coat', 'num_frames': 47, 'size_480p': (480, 854)})\n",
      "(tensor([1]), {'name': 'libby', 'num_frames': 49, 'size_480p': (480, 854)})\n",
      "(tensor([3]), {'name': 'loading', 'num_frames': 50, 'size_480p': (480, 854)})\n",
      "(tensor([2]), {'name': 'mbike-trick', 'num_frames': 79, 'size_480p': (480, 854)})\n",
      "(tensor([2]), {'name': 'motocross-jump', 'num_frames': 40, 'size_480p': (480, 854)})\n",
      "(tensor([3]), {'name': 'paragliding-launch', 'num_frames': 80, 'size_480p': (480, 854)})\n",
      "(tensor([1]), {'name': 'parkour', 'num_frames': 100, 'size_480p': (480, 854)})\n",
      "(tensor([3]), {'name': 'pigs', 'num_frames': 79, 'size_480p': (480, 854)})\n",
      "(tensor([2]), {'name': 'scooter-black', 'num_frames': 43, 'size_480p': (480, 854)})\n",
      "(tensor([3]), {'name': 'shooting', 'num_frames': 40, 'size_480p': (480, 1152)})\n",
      "(tensor([3]), {'name': 'soapbox', 'num_frames': 99, 'size_480p': (480, 854)})\n"
     ]
    }
   ],
   "source": [
    "for e in Testloader:\n",
    "    print(e)\n"
   ]
  },
  {
   "cell_type": "code",
   "execution_count": 38,
   "metadata": {},
   "outputs": [
    {
     "name": "stdout",
     "output_type": "stream",
     "text": [
      "(tensor([2]), {'name': 'bike-packing', 'num_frames': 69, 'size_480p': (480, 910)})\n"
     ]
    }
   ],
   "source": [
    "for V in list(Testloader)[:1]:\n",
    "    print(V)"
   ]
  },
  {
   "cell_type": "code",
   "execution_count": 22,
   "metadata": {},
   "outputs": [
    {
     "name": "stdout",
     "output_type": "stream",
     "text": [
      "Collecting imgaug\n",
      "  Downloading imgaug-0.4.0-py2.py3-none-any.whl (948 kB)\n",
      "\u001b[2K     \u001b[90m━━━━━━━━━━━━━━━━━━━━━━━━━━━━━━━━━━━━━\u001b[0m \u001b[32m948.0/948.0 kB\u001b[0m \u001b[31m993.0 kB/s\u001b[0m eta \u001b[36m0:00:00\u001b[0ma \u001b[36m0:00:01\u001b[0m\n",
      "\u001b[?25hRequirement already satisfied: numpy>=1.15 in /Library/Frameworks/Python.framework/Versions/3.8/lib/python3.8/site-packages (from imgaug) (1.22.4)\n",
      "Requirement already satisfied: matplotlib in /Library/Frameworks/Python.framework/Versions/3.8/lib/python3.8/site-packages (from imgaug) (3.7.0)\n",
      "Requirement already satisfied: scikit-image>=0.14.2 in /Library/Frameworks/Python.framework/Versions/3.8/lib/python3.8/site-packages (from imgaug) (0.20.0)\n",
      "Requirement already satisfied: imageio in /Library/Frameworks/Python.framework/Versions/3.8/lib/python3.8/site-packages (from imgaug) (2.22.1)\n",
      "Requirement already satisfied: scipy in /Library/Frameworks/Python.framework/Versions/3.8/lib/python3.8/site-packages (from imgaug) (1.9.1)\n",
      "Requirement already satisfied: opencv-python in /Library/Frameworks/Python.framework/Versions/3.8/lib/python3.8/site-packages (from imgaug) (4.7.0.72)\n",
      "Requirement already satisfied: six in /Users/pita/Library/Python/3.8/lib/python/site-packages (from imgaug) (1.14.0)\n",
      "Collecting Shapely\n",
      "  Downloading shapely-2.0.1-cp38-cp38-macosx_10_9_x86_64.whl (1.4 MB)\n",
      "\u001b[2K     \u001b[90m━━━━━━━━━━━━━━━━━━━━━━━━━━━━━━━━━━━━━━━━\u001b[0m \u001b[32m1.4/1.4 MB\u001b[0m \u001b[31m1.4 MB/s\u001b[0m eta \u001b[36m0:00:00\u001b[0m00:01\u001b[0m00:01\u001b[0m\n",
      "\u001b[?25hRequirement already satisfied: Pillow in /Library/Frameworks/Python.framework/Versions/3.8/lib/python3.8/site-packages (from imgaug) (9.2.0)\n",
      "Requirement already satisfied: networkx>=2.8 in /Library/Frameworks/Python.framework/Versions/3.8/lib/python3.8/site-packages (from scikit-image>=0.14.2->imgaug) (3.0)\n",
      "Requirement already satisfied: lazy_loader>=0.1 in /Library/Frameworks/Python.framework/Versions/3.8/lib/python3.8/site-packages (from scikit-image>=0.14.2->imgaug) (0.2)\n",
      "Requirement already satisfied: PyWavelets>=1.1.1 in /Library/Frameworks/Python.framework/Versions/3.8/lib/python3.8/site-packages (from scikit-image>=0.14.2->imgaug) (1.4.1)\n",
      "Requirement already satisfied: packaging>=20.0 in /Library/Frameworks/Python.framework/Versions/3.8/lib/python3.8/site-packages (from scikit-image>=0.14.2->imgaug) (22.0)\n",
      "Requirement already satisfied: tifffile>=2019.7.26 in /Library/Frameworks/Python.framework/Versions/3.8/lib/python3.8/site-packages (from scikit-image>=0.14.2->imgaug) (2023.3.21)\n",
      "Requirement already satisfied: contourpy>=1.0.1 in /Library/Frameworks/Python.framework/Versions/3.8/lib/python3.8/site-packages (from matplotlib->imgaug) (1.0.7)\n",
      "Requirement already satisfied: fonttools>=4.22.0 in /Library/Frameworks/Python.framework/Versions/3.8/lib/python3.8/site-packages (from matplotlib->imgaug) (4.38.0)\n",
      "Requirement already satisfied: kiwisolver>=1.0.1 in /Library/Frameworks/Python.framework/Versions/3.8/lib/python3.8/site-packages (from matplotlib->imgaug) (1.2.0)\n",
      "Requirement already satisfied: python-dateutil>=2.7 in /Library/Frameworks/Python.framework/Versions/3.8/lib/python3.8/site-packages (from matplotlib->imgaug) (2.8.2)\n",
      "Requirement already satisfied: importlib-resources>=3.2.0 in /Library/Frameworks/Python.framework/Versions/3.8/lib/python3.8/site-packages (from matplotlib->imgaug) (5.10.0)\n",
      "Requirement already satisfied: pyparsing>=2.3.1 in /Library/Frameworks/Python.framework/Versions/3.8/lib/python3.8/site-packages (from matplotlib->imgaug) (2.4.7)\n",
      "Requirement already satisfied: cycler>=0.10 in /Library/Frameworks/Python.framework/Versions/3.8/lib/python3.8/site-packages (from matplotlib->imgaug) (0.10.0)\n",
      "Requirement already satisfied: zipp>=3.1.0 in /Users/pita/Library/Python/3.8/lib/python/site-packages (from importlib-resources>=3.2.0->matplotlib->imgaug) (3.1.0)\n",
      "Installing collected packages: Shapely, imgaug\n",
      "Successfully installed Shapely-2.0.1 imgaug-0.4.0\n"
     ]
    }
   ],
   "source": [
    "! pip install imgaug"
   ]
  },
  {
   "cell_type": "code",
   "execution_count": 23,
   "metadata": {},
   "outputs": [],
   "source": [
    "import pandas as pd \n",
    "import numpy as np"
   ]
  },
  {
   "cell_type": "code",
   "execution_count": 45,
   "metadata": {},
   "outputs": [],
   "source": [
    "g_measures = ['Vide0','J&F-Mean', 'J-Mean', 'J-Recall', 'J-Decay', 'F-Mean', 'F-Recall', 'F-Decay']\n",
    "g_res = np.array(['bike',0.82510419,0.79958112,1.,0.0564815,0.85062727,1.,0.08967042])"
   ]
  },
  {
   "cell_type": "code",
   "execution_count": 46,
   "metadata": {},
   "outputs": [],
   "source": [
    "df = pd.DataFrame(columns=g_measures)\n",
    "df.loc[0] = g_res"
   ]
  },
  {
   "cell_type": "code",
   "execution_count": 47,
   "metadata": {},
   "outputs": [
    {
     "data": {
      "text/html": [
       "<div>\n",
       "<style scoped>\n",
       "    .dataframe tbody tr th:only-of-type {\n",
       "        vertical-align: middle;\n",
       "    }\n",
       "\n",
       "    .dataframe tbody tr th {\n",
       "        vertical-align: top;\n",
       "    }\n",
       "\n",
       "    .dataframe thead th {\n",
       "        text-align: right;\n",
       "    }\n",
       "</style>\n",
       "<table border=\"1\" class=\"dataframe\">\n",
       "  <thead>\n",
       "    <tr style=\"text-align: right;\">\n",
       "      <th></th>\n",
       "      <th>Vide0</th>\n",
       "      <th>J&amp;F-Mean</th>\n",
       "      <th>J-Mean</th>\n",
       "      <th>J-Recall</th>\n",
       "      <th>J-Decay</th>\n",
       "      <th>F-Mean</th>\n",
       "      <th>F-Recall</th>\n",
       "      <th>F-Decay</th>\n",
       "    </tr>\n",
       "  </thead>\n",
       "  <tbody>\n",
       "    <tr>\n",
       "      <th>0</th>\n",
       "      <td>bike</td>\n",
       "      <td>0.82510419</td>\n",
       "      <td>0.79958112</td>\n",
       "      <td>1.0</td>\n",
       "      <td>0.0564815</td>\n",
       "      <td>0.85062727</td>\n",
       "      <td>1.0</td>\n",
       "      <td>0.08967042</td>\n",
       "    </tr>\n",
       "  </tbody>\n",
       "</table>\n",
       "</div>"
      ],
      "text/plain": [
       "  Vide0    J&F-Mean      J-Mean J-Recall    J-Decay      F-Mean F-Recall  \\\n",
       "0  bike  0.82510419  0.79958112      1.0  0.0564815  0.85062727      1.0   \n",
       "\n",
       "      F-Decay  \n",
       "0  0.08967042  "
      ]
     },
     "execution_count": 47,
     "metadata": {},
     "output_type": "execute_result"
    }
   ],
   "source": [
    "df"
   ]
  },
  {
   "cell_type": "code",
   "execution_count": 44,
   "metadata": {},
   "outputs": [
    {
     "data": {
      "text/plain": [
       "array(['aaa', '0.82510419', '0.79958112', '1.0', '0.0564815',\n",
       "       '0.85062727', '1.0', '0.08967042'], dtype='<U32')"
      ]
     },
     "execution_count": 44,
     "metadata": {},
     "output_type": "execute_result"
    }
   ],
   "source": [
    "np.array(['aaa',0.82510419,0.79958112,1.,0.0564815,0.85062727,1.,0.08967042])"
   ]
  },
  {
   "cell_type": "code",
   "execution_count": 42,
   "metadata": {},
   "outputs": [],
   "source": [
    "df.loc[len(df)] = g_res"
   ]
  },
  {
   "cell_type": "code",
   "execution_count": 1,
   "metadata": {},
   "outputs": [],
   "source": [
    "from dataset.coco import Coco_MO_Train\n",
    "COCO_ROOT = '../data.nosync/Ms-COCO/'\n",
    "Trainset1 = Coco_MO_Train('{}train2017'.format(COCO_ROOT),'{}annotations/instances_train2017.json'.format(COCO_ROOT))"
   ]
  },
  {
   "cell_type": "code",
   "execution_count": 4,
   "metadata": {},
   "outputs": [],
   "source": [
    "from torch.utils import data\n",
    "Trainloader1 = data.DataLoader(Trainset1, batch_size=1, num_workers=1,shuffle = True, pin_memory=True)"
   ]
  },
  {
   "cell_type": "code",
   "execution_count": 5,
   "metadata": {},
   "outputs": [],
   "source": [
    "loader_iter1 = iter(Trainloader1)"
   ]
  }
 ],
 "metadata": {
  "kernelspec": {
   "display_name": "Python 3",
   "language": "python",
   "name": "python3"
  },
  "language_info": {
   "codemirror_mode": {
    "name": "ipython",
    "version": 3
   },
   "file_extension": ".py",
   "mimetype": "text/x-python",
   "name": "python",
   "nbconvert_exporter": "python",
   "pygments_lexer": "ipython3",
   "version": "3.8.2"
  },
  "orig_nbformat": 4
 },
 "nbformat": 4,
 "nbformat_minor": 2
}
